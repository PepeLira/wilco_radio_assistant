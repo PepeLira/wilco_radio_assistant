{
 "cells": [
  {
   "cell_type": "code",
   "execution_count": null,
   "metadata": {},
   "outputs": [],
   "source": [
    "import numpy as np\n",
    "import scipy.signal as signal\n",
    "import librosa\n",
    "import soundfile as sf\n",
    "import matplotlib.pyplot as plt\n",
    "\n",
    "# Define the sampling frequency\n",
    "fs = 44100  # Sampling frequency in Hz (this should be set based on your audio file's sample rate)\n",
    "\n",
    "# Define the bandpass filter specifications\n",
    "low_cutoff = 80  # Low cutoff frequency in Hz\n",
    "high_cutoff = 1500  # High cutoff frequency in Hz\n",
    "\n",
    "# Normalize the frequencies by the Nyquist frequency\n",
    "nyquist = 0.5 * fs\n",
    "low = low_cutoff / nyquist\n",
    "high = high_cutoff / nyquist\n",
    "\n",
    "# Design the bandpass filter using SOS (Second-Order Sections)\n",
    "sos = signal.iirfilter(\n",
    "    N=4,  # Filter order; 4th-order bandpass filter\n",
    "    Wn=[low, high],  # Normalized cutoff frequencies\n",
    "    btype='band',\n",
    "    ftype='butter',  # Butterworth filter\n",
    "    output='sos'\n",
    ")\n",
    "\n",
    "# Load the MP3 file using librosa\n",
    "input_file = 'clip_20240815_165626_1723755386.mp3'\n",
    "x, sr = librosa.load(input_file, sr=None)  # Load the audio file, keeping the original sampling rate\n",
    "\n",
    "# Update the sampling frequency to match the audio file's sample rate\n",
    "fs = sr\n",
    "nyquist = 0.5 * fs\n",
    "low = low_cutoff / nyquist\n",
    "high = high_cutoff / nyquist\n",
    "\n",
    "# Design the bandpass filter with updated frequencies\n",
    "sos = signal.iirfilter(\n",
    "    N=4,\n",
    "    Wn=[low, high],\n",
    "    btype='band',\n",
    "    ftype='butter',\n",
    "    output='sos'\n",
    ")\n",
    "\n",
    "# Apply the SOS filter to the audio signal\n",
    "filtered_x = signal.sosfilt(sos, x)\n",
    "\n",
    "# Save the filtered audio to a new file\n",
    "output_file = 'filtered_audio_clip.wav'\n",
    "sf.write(output_file, filtered_x, sr)\n",
    "\n"
   ]
  },
  {
   "cell_type": "markdown",
   "metadata": {},
   "source": [
    "## Faster-Whisper Speech2Text"
   ]
  },
  {
   "cell_type": "code",
   "execution_count": 4,
   "metadata": {},
   "outputs": [
    {
     "name": "stdout",
     "output_type": "stream",
     "text": [
      "Detected language 'es' with probability 0.672604\n",
      "[0.00s -> 3.00s]  Atención 1-2-3, probando canal libre.\n"
     ]
    }
   ],
   "source": [
    "from faster_whisper import WhisperModel\n",
    "model_size = \"medium\"\n",
    "\n",
    "\n",
    "##            Size of the model to use (tiny, tiny.en, base, base.en,\n",
    "##            small, small.en, distil-small.en, medium, medium.en, distil-medium.en, large-v1,\n",
    "##            large-v2, large-v3, large, distil-large-v2 or distil-large-v3)\n",
    "\n",
    "\n",
    "# Run on GPU with FP16\n",
    "#model = WhisperModel(model_size, device=\"cuda\", compute_type=\"float16\")\n",
    "\n",
    "# or run on GPU with INT8\n",
    "# model = WhisperModel(model_size, device=\"cuda\", compute_type=\"int8_float16\")\n",
    "# or run on CPU with INT8\n",
    "\n",
    "model = WhisperModel(model_size, device=\"cpu\", compute_type=\"int8\")\n",
    "\n",
    "segments, info = model.transcribe(\"clip_20240815_165626_1723755386.mp3\", beam_size=10)\n",
    "\n",
    "print(\"Detected language '%s' with probability %f\" % (info.language, info.language_probability))\n",
    "\n",
    "for segment in segments:\n",
    "    print(\"[%.2fs -> %.2fs] %s\" % (segment.start, segment.end, segment.text))"
   ]
  },
  {
   "cell_type": "code",
   "execution_count": null,
   "metadata": {},
   "outputs": [],
   "source": []
  }
 ],
 "metadata": {
  "kernelspec": {
   "display_name": "Python 3",
   "language": "python",
   "name": "python3"
  },
  "language_info": {
   "codemirror_mode": {
    "name": "ipython",
    "version": 3
   },
   "file_extension": ".py",
   "mimetype": "text/x-python",
   "name": "python",
   "nbconvert_exporter": "python",
   "pygments_lexer": "ipython3",
   "version": "3.9.12"
  }
 },
 "nbformat": 4,
 "nbformat_minor": 2
}
