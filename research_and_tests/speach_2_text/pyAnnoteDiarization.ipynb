{
 "cells": [
  {
   "cell_type": "code",
   "execution_count": 7,
   "metadata": {},
   "outputs": [],
   "source": [
    "from pyannote.audio import Pipeline\n",
    "audioPath = \"C:/Users/Jose/Desktop/Hackathon/Speech2Text/\"\n",
    "audioName = 'convPepeTrijoMaggi.wav' ## Filtered audio file\n",
    "tokenFile = \"HuggingFaceToken.txt\"\n",
    "file1 = open(audioPath + tokenFile, 'r')\n",
    "token = file1.readline()\n",
    "\n"
   ]
  },
  {
   "cell_type": "code",
   "execution_count": 11,
   "metadata": {},
   "outputs": [
    {
     "name": "stdout",
     "output_type": "stream",
     "text": [
      "CUDA is not available. Only CPU will be used.\n"
     ]
    }
   ],
   "source": [
    "import torch\n",
    "\n",
    "# Check if CUDA (NVIDIA GPU support) is available\n",
    "if torch.cuda.is_available():\n",
    "    print(f\"CUDA is available. Number of GPUs: {torch.cuda.device_count()}\")\n",
    "    for i in range(torch.cuda.device_count()):\n",
    "        print(f\"GPU {i}: {torch.cuda.get_device_name(i)}\")\n",
    "else:\n",
    "    print(\"CUDA is not available. Only CPU will be used.\")"
   ]
  },
  {
   "cell_type": "code",
   "execution_count": 13,
   "metadata": {},
   "outputs": [
    {
     "name": "stdout",
     "output_type": "stream",
     "text": [
      "start=1.5s stop=2.0s speaker_SPEAKER_00\n",
      "start=3.3s stop=8.5s speaker_SPEAKER_00\n",
      "start=16.8s stop=18.3s speaker_SPEAKER_00\n",
      "start=19.0s stop=20.7s speaker_SPEAKER_00\n",
      "start=21.6s stop=24.7s speaker_SPEAKER_00\n",
      "start=32.1s stop=34.7s speaker_SPEAKER_01\n",
      "start=34.9s stop=39.2s speaker_SPEAKER_01\n",
      "start=39.6s stop=40.7s speaker_SPEAKER_01\n",
      "start=40.8s stop=45.8s speaker_SPEAKER_01\n",
      "start=46.1s stop=48.9s speaker_SPEAKER_01\n",
      "start=46.2s stop=48.0s speaker_SPEAKER_00\n",
      "start=49.3s stop=53.6s speaker_SPEAKER_01\n",
      "start=54.5s stop=56.4s speaker_SPEAKER_01\n",
      "start=57.1s stop=57.8s speaker_SPEAKER_01\n",
      "start=58.4s stop=61.8s speaker_SPEAKER_01\n",
      "start=66.8s stop=69.0s speaker_SPEAKER_00\n",
      "start=69.9s stop=71.8s speaker_SPEAKER_00\n",
      "start=72.5s stop=73.1s speaker_SPEAKER_00\n",
      "start=73.8s stop=74.4s speaker_SPEAKER_00\n",
      "start=74.4s stop=75.0s speaker_SPEAKER_00\n",
      "start=83.7s stop=85.3s speaker_SPEAKER_00\n",
      "start=85.8s stop=87.2s speaker_SPEAKER_00\n",
      "start=88.3s stop=89.9s speaker_SPEAKER_00\n",
      "start=90.4s stop=93.4s speaker_SPEAKER_00\n",
      "start=93.7s stop=94.8s speaker_SPEAKER_00\n",
      "start=95.7s stop=101.0s speaker_SPEAKER_00\n",
      "start=101.5s stop=103.7s speaker_SPEAKER_00\n",
      "start=105.3s stop=107.0s speaker_SPEAKER_00\n",
      "start=107.7s stop=109.8s speaker_SPEAKER_00\n",
      "start=109.8s stop=110.7s speaker_SPEAKER_00\n",
      "start=111.6s stop=113.5s speaker_SPEAKER_00\n",
      "start=113.7s stop=115.3s speaker_SPEAKER_00\n",
      "start=115.8s stop=117.4s speaker_SPEAKER_00\n",
      "start=118.0s stop=118.4s speaker_SPEAKER_00\n",
      "start=145.1s stop=149.8s speaker_SPEAKER_01\n",
      "start=150.0s stop=152.6s speaker_SPEAKER_01\n",
      "start=153.3s stop=154.4s speaker_SPEAKER_01\n",
      "start=164.9s stop=165.4s speaker_SPEAKER_00\n",
      "start=165.5s stop=168.2s speaker_SPEAKER_00\n",
      "start=168.8s stop=172.4s speaker_SPEAKER_00\n",
      "start=177.7s stop=181.0s speaker_SPEAKER_00\n",
      "start=181.3s stop=184.1s speaker_SPEAKER_00\n",
      "start=191.3s stop=195.4s speaker_SPEAKER_00\n",
      "start=196.4s stop=197.0s speaker_SPEAKER_00\n",
      "start=197.5s stop=198.8s speaker_SPEAKER_00\n",
      "start=199.1s stop=199.7s speaker_SPEAKER_01\n",
      "start=199.8s stop=203.5s speaker_SPEAKER_00\n",
      "start=203.7s stop=208.6s speaker_SPEAKER_00\n",
      "start=209.6s stop=211.6s speaker_SPEAKER_00\n",
      "start=226.6s stop=226.7s speaker_SPEAKER_00\n",
      "start=226.8s stop=226.8s speaker_SPEAKER_00\n",
      "start=227.0s stop=228.7s speaker_SPEAKER_00\n",
      "start=229.2s stop=229.6s speaker_SPEAKER_00\n",
      "start=230.0s stop=232.1s speaker_SPEAKER_00\n",
      "start=232.5s stop=234.5s speaker_SPEAKER_00\n",
      "start=234.8s stop=237.4s speaker_SPEAKER_00\n",
      "start=243.0s stop=243.5s speaker_SPEAKER_00\n"
     ]
    }
   ],
   "source": [
    "pipeline = Pipeline.from_pretrained(\n",
    "    \"pyannote/speaker-diarization-3.1\",\n",
    "    use_auth_token=token)\n",
    "\n",
    "# send pipeline to GPU (when available)\n",
    "import torch\n",
    "pipeline.to(torch.device(\"cpu\"))\n",
    "\n",
    "# apply pretrained pipeline\n",
    "diarization = pipeline(audioPath + audioName)\n",
    "\n",
    "# print the result\n",
    "for turn, _, speaker in diarization.itertracks(yield_label=True):\n",
    "    print(f\"start={turn.start:.1f}s stop={turn.end:.1f}s speaker_{speaker}\")"
   ]
  },
  {
   "cell_type": "code",
   "execution_count": null,
   "metadata": {},
   "outputs": [],
   "source": []
  }
 ],
 "metadata": {
  "kernelspec": {
   "display_name": "Python 3",
   "language": "python",
   "name": "python3"
  },
  "language_info": {
   "codemirror_mode": {
    "name": "ipython",
    "version": 3
   },
   "file_extension": ".py",
   "mimetype": "text/x-python",
   "name": "python",
   "nbconvert_exporter": "python",
   "pygments_lexer": "ipython3",
   "version": "3.9.12"
  }
 },
 "nbformat": 4,
 "nbformat_minor": 2
}
